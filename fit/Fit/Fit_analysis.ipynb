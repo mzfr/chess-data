{
 "cells": [
  {
   "cell_type": "code",
   "execution_count": 2,
   "metadata": {},
   "outputs": [],
   "source": [
    "import csv\n",
    "import pandas as pd\n",
    "import matplotlib.pyplot as plt\n",
    "import calplot\n",
    "from datetime import datetime"
   ]
  },
  {
   "cell_type": "code",
   "execution_count": 5,
   "metadata": {},
   "outputs": [],
   "source": [
    "# Reading Step count data from both mifit and google fit\n",
    "StepCount = {}\n",
    "\n",
    "# mifit data\n",
    "with open(\"/home/mzfr/dev/year-in-review/fit/mifit/ACTIVITY/ACTIVITY_1605643103723.csv\", \"r\") as f:\n",
    "    data = csv.DictReader(f)\n",
    "    for activity in data:\n",
    "        date = datetime.strptime(activity[\"\\ufeffdate\"], \"%Y-%m-%d\")\n",
    "        if date.year != 2020:\n",
    "            continue\n",
    "        StepCount[date] = int(activity[\"steps\"])\n",
    "\n",
    "# Google Fit data\n",
    "with open(\"/home/mzfr/dev/year-in-review/fit/Fit/Daily Aggregations/Daily Summaries.csv\", \"r\") as f:\n",
    "    data = csv.DictReader(f)\n",
    "    for summary in data:\n",
    "        date = datetime.strptime(summary[\"Date\"], \"%Y-%m-%d\")\n",
    "        if date.year != 2020: # Keeping data just for 2020\n",
    "            continue\n",
    "        if date not in StepCount:\n",
    "            try:\n",
    "                StepCount[date] = int(summary[\"Step count\"])\n",
    "            except ValueError:\n",
    "                print(date)"
   ]
  },
  {
   "cell_type": "code",
   "execution_count": 14,
   "metadata": {},
   "outputs": [
    {
     "data": {
      "text/plain": [
       "(<Figure size 900x122.4 with 2 Axes>, array([<AxesSubplot:>], dtype=object))"
      ]
     },
     "execution_count": 14,
     "metadata": {},
     "output_type": "execute_result"
    },
    {
     "data": {
      "image/png": "[encoded data removed]",
      "text/plain": [
       "<Figure size 900x122.4 with 2 Axes>"
      ]
     },
     "metadata": {
      "needs_background": "light"
     },
     "output_type": "display_data"
    }
   ],
   "source": [
    "# Step Count\n",
    "\n",
    "series = pd.Series(StepCount)\n",
    "calplot.calplot(series, cmap='YlGn', edgecolor=None, yearlabels=False)"
   ]
  },
  {
   "cell_type": "code",
   "execution_count": 13,
   "metadata": {},
   "outputs": [
    {
     "data": {
      "text/plain": [
       "(<Figure size 900x122.4 with 2 Axes>, array([<AxesSubplot:>], dtype=object))"
      ]
     },
     "execution_count": 13,
     "metadata": {},
     "output_type": "execute_result"
    },
    {
     "data": {
      "image/png": "[encoded data removed]",
      "text/plain": [
       "<Figure size 900x122.4 with 2 Axes>"
      ]
     },
     "metadata": {
      "needs_background": "light"
     },
     "output_type": "display_data"
    }
   ],
   "source": [
    "SleepTime = {}\n",
    "## Sleep data from MiFit\n",
    "\n",
    "with open(\"/home/mzfr/dev/year-in-review/fit/mifit/SLEEP/SLEEP_1605643104941.csv\", \"r\") as f:\n",
    "    data = csv.DictReader(f)\n",
    "    for sleep in data:\n",
    "        date = datetime.strptime(sleep[\"\\ufeffdate\"], \"%Y-%m-%d\")\n",
    "        if date.year == 2020:\n",
    "            start = datetime.fromtimestamp(int(sleep[\"start\"]))\n",
    "            stop = datetime.fromtimestamp(int(sleep[\"stop\"]))\n",
    "            total = stop-start\n",
    "            SleepTime[date] = total.seconds//3600\n",
    "        \n",
    "Timeseries = pd.Series(SleepTime)\n",
    "calplot.calplot(Timeseries, cmap='YlGn', edgecolor=None, yearlabels=False)"
   ]
  }
 ],
 "metadata": {
  "kernelspec": {
   "display_name": "Python 3",
   "language": "python",
   "name": "python3"
  },
  "language_info": {
   "codemirror_mode": {
    "name": "ipython",
    "version": 3
   },
   "file_extension": ".py",
   "mimetype": "text/x-python",
   "name": "python",
   "nbconvert_exporter": "python",
   "pygments_lexer": "ipython3",
   "version": "3.9.1"
  }
 },
 "nbformat": 4,
 "nbformat_minor": 4
}
